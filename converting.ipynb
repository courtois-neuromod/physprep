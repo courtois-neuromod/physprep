{
 "cells": [
  {
   "cell_type": "markdown",
   "metadata": {},
   "source": [
    "# Segment and Convert  biosignals\n",
    "Segment : cut the different acquisitions recorded in the same file (multi-run recordings).\n",
    "\n",
    "Convert : change the file type (from `.acq` to `.tsv.gz`).\n",
    "\n",
    "\n",
    "#### Dependencies"
   ]
  },
  {
   "cell_type": "code",
   "execution_count": 6,
   "metadata": {},
   "outputs": [
    {
     "name": "stderr",
     "output_type": "stream",
     "text": [
      "Module `duecredit` not successfully imported due to \"No module named 'duecredit'\". Package functionality unaffected.\n"
     ]
    }
   ],
   "source": [
    "import pandas as pd\n",
    "import numpy as np\n",
    "import os\n",
    "import itertools\n",
    "import matplotlib.pyplot as plt\n",
    "from phys2bids.phys2bids import phys2bids\n",
    "import neurokit2 as nk"
   ]
  },
  {
   "cell_type": "code",
   "execution_count": 7,
   "metadata": {},
   "outputs": [],
   "source": [
    "subs=['sub-01']\n",
    "#, 'sub-02','sub-03','sub-04','sub-05','sub-06',]\n",
    "no_infile = {}\n",
    "for sub in subs:\n",
    "    info = pd.read_json(f\"~/physio_data/friends/{sub}/{sub}_volumes_all-ses-runs.json\")\n",
    "    tmp_ses = []\n",
    "    for ses in info:\n",
    "        if info[ses]['in_file'] is np.nan:\n",
    "            tmp_ses.append(ses)\n",
    "    \n",
    "    no_infile[sub] = len(tmp_ses)"
   ]
  },
  {
   "cell_type": "code",
   "execution_count": 18,
   "metadata": {},
   "outputs": [
    {
     "data": {
      "text/plain": [
       "'neuromod_video52020-01-14T10_44_20.acq'"
      ]
     },
     "execution_count": 18,
     "metadata": {},
     "output_type": "execute_result"
    }
   ],
   "source": [
    "info.T['in_file'][0][0]"
   ]
  },
  {
   "cell_type": "code",
   "execution_count": 21,
   "metadata": {},
   "outputs": [
    {
     "name": "stderr",
     "output_type": "stream",
     "text": [
      "INFO       Currently running phys2bids version 2.8.0\n",
      "INFO       Input file is /home/franc/physio_data/sourcedata/physio/sub-01/ses-001/neuromod_video52020-01-14T10_44_20.acq\n",
      "INFO       File extension is .acq\n",
      "WARNING    If both acq and txt files exist in the path, acq will be selected.\n",
      "INFO       Reading the file /home/franc/physio_data/sourcedata/physio/sub-01/ses-001/neuromod_video52020-01-14T10_44_20.acq\n",
      "INFO       00. Channel GSR-EDA100C-MRI: 39592297 samples, 10000.0 samples/sec, loaded: True\n",
      "INFO       01. Channel PPG100C: 39592297 samples, 10000.0 samples/sec, loaded: True\n",
      "INFO       02. Channel ECG100C: 39592297 samples, 10000.0 samples/sec, loaded: True\n",
      "INFO       03. Channel Custom, HLT100C - A 5: 39592297 samples, 10000.0 samples/sec, loaded: True\n",
      "INFO       04. Channel Custom, HLT100C - A 6: 39592297 samples, 10000.0 samples/sec, loaded: True\n",
      "INFO       Trigger channel name is not in our trigger channel name alias list. Please make sure you choose the proper channel.\n",
      "INFO       Checking that units of measure are BIDS compatible\n",
      "INFO       Reading infos\n",
      "INFO       \n",
      "------------------------------------------------\n",
      "File /home/franc/physio_data/sourcedata/physio/sub-01/ses-001/neuromod_video52020-01-14T10_44_20.acq contains:\n",
      "01. GSR-EDA100C-MRI; sampled at 10000.0 Hz\n",
      "02. PPG100C; sampled at 10000.0 Hz\n",
      "03. ECG100C; sampled at 10000.0 Hz\n",
      "04. Custom, HLT100C - A 5; sampled at 10000.0 Hz\n",
      "05. Custom, HLT100C - A 6; sampled at 10000.0 Hz\n",
      "------------------------------------------------\n",
      "\n"
     ]
    },
    {
     "ename": "",
     "evalue": "",
     "output_type": "error",
     "traceback": [
      "\u001b[1;31mCanceled future for execute_request message before replies were done"
     ]
    },
    {
     "ename": "",
     "evalue": "",
     "output_type": "error",
     "traceback": [
      "\u001b[1;31mThe Kernel crashed while executing code in the the current cell or a previous cell. Please review the code in the cell(s) to identify a possible cause of the failure. Click <a href='https://aka.ms/vscodeJupyterKernelCrash'>here</a> for more info. View Jupyter <a href='command:jupyter.viewOutput'>log</a> for further details."
     ]
    }
   ],
   "source": [
    "phys2bids(f\"/home/franc/physio_data/sourcedata/physio/sub-01/ses-001/{info.T['in_file'][0][0]}\",\n",
    "           num_timepoints_expected=info.T['recorded_triggers'], tr=[1.49], chtrig=3,\n",
    "           ch_name=[\"EDA\",\"PPG\", \"ECG\", \"TTL\", \"RSP\"], ses='ses-001', \n",
    "           outdir='/home/franc/physio_data/sub-01/ses-001')"
   ]
  },
  {
   "cell_type": "code",
   "execution_count": null,
   "metadata": {},
   "outputs": [],
   "source": []
  }
 ],
 "metadata": {
  "kernelspec": {
   "display_name": "physprep",
   "language": "python",
   "name": "python3"
  },
  "language_info": {
   "codemirror_mode": {
    "name": "ipython",
    "version": 3
   },
   "file_extension": ".py",
   "mimetype": "text/x-python",
   "name": "python",
   "nbconvert_exporter": "python",
   "pygments_lexer": "ipython3",
   "version": "3.10.9"
  },
  "vscode": {
   "interpreter": {
    "hash": "55842420b230d604ffb301f1c90f37af129d37374090efaffe0ebb03e434d27d"
   }
  }
 },
 "nbformat": 4,
 "nbformat_minor": 2
}
